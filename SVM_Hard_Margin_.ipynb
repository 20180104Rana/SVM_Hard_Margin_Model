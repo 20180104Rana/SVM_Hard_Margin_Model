{
 "cells": [
  {
   "cell_type": "markdown",
   "metadata": {
    "id": "PWJJMDEHD8Bz"
   },
   "source": [
    "# Outline:\n",
    "\n",
    "*   SVM Intuition\n",
    "*   SVM with Linear Dataset"
   ]
  },
  {
   "cell_type": "markdown",
   "metadata": {
    "id": "wh6Mn9SwHmoJ"
   },
   "source": [
    "# SVM Intuition"
   ]
  },
  {
   "cell_type": "markdown",
   "metadata": {
    "id": "gM-0Pnz-0WLs"
   },
   "source": [
    "### Case 1: Correct Classification\n",
    "  what is the best classifier?"
   ]
  },
  {
   "cell_type": "markdown",
   "metadata": {
    "id": "c4rkWK710WLs"
   },
   "source": [
    "<img src=https://www.analyticsvidhya.com/wp-content/uploads/2015/10/SVM_21.png>\n",
    "\n",
    "**The best hyper-plane is the one that separates the two classes better. Therefore, B is the best hyperplane**"
   ]
  },
  {
   "cell_type": "markdown",
   "metadata": {
    "id": "nQygFHbn0WLt"
   },
   "source": [
    "### Case 2: Maximizing the Margin\n",
    "**These three hyper-planes separate the two classes, but which of them is the best one?**"
   ]
  },
  {
   "cell_type": "markdown",
   "metadata": {
    "id": "KZ83y6bM0WLu"
   },
   "source": [
    "<img src=https://www.analyticsvidhya.com/wp-content/uploads/2015/10/SVM_3.png>\n",
    "\n",
    "**We care about maximizing the distances between the nearest data point of either class and hyper-plane. This distance between the hyper-plane and the nearest data point of each class is called margin**\n",
    "\n",
    "<img src=https://www.analyticsvidhya.com/wp-content/uploads/2015/10/SVM_4.png>"
   ]
  },
  {
   "cell_type": "markdown",
   "metadata": {
    "id": "QaiPT5DR0WLy"
   },
   "source": [
    "### Case 3: Outliers"
   ]
  },
  {
   "cell_type": "markdown",
   "metadata": {
    "id": "PqHIBwVB0WLy"
   },
   "source": [
    "<img src=https://www.analyticsvidhya.com/wp-content/uploads/2015/10/SVM_71.png>"
   ]
  },
  {
   "cell_type": "markdown",
   "metadata": {
    "id": "e0-nUdDbHhdR"
   },
   "source": [
    "# Loading needed libraries"
   ]
  },
  {
   "cell_type": "code",
   "execution_count": 25,
   "metadata": {
    "executionInfo": {
     "elapsed": 467,
     "status": "ok",
     "timestamp": 1710197557982,
     "user": {
      "displayName": "Ahmed Farouk 201-700-619",
      "userId": "17438015112080609420"
     },
     "user_tz": -120
    },
    "id": "48IkrdkzHcnm"
   },
   "outputs": [],
   "source": [
    "import numpy as np\n",
    "import pandas as pd\n",
    "\n",
    "from sklearn import datasets\n",
    "from sklearn.preprocessing import StandardScaler\n",
    "from sklearn.model_selection import train_test_split\n",
    "from sklearn.metrics import accuracy_score\n",
    "\n",
    "import matplotlib.pyplot as plt\n",
    "\n",
    "from mlxtend.plotting import plot_decision_regions\n",
    "from mlxtend.preprocessing import shuffle_arrays_unison\n",
    "\n",
    "\n",
    "from sklearn.svm import SVC"
   ]
  },
  {
   "cell_type": "markdown",
   "metadata": {
    "id": "k_f7NQaPEZSp"
   },
   "source": [
    "# SVM with linear dataset"
   ]
  },
  {
   "cell_type": "markdown",
   "metadata": {
    "id": "sQbOgXFnJe2A"
   },
   "source": [
    "### Loading the data"
   ]
  },
  {
   "cell_type": "code",
   "execution_count": 26,
   "metadata": {
    "executionInfo": {
     "elapsed": 8,
     "status": "ok",
     "timestamp": 1710197558449,
     "user": {
      "displayName": "Ahmed Farouk 201-700-619",
      "userId": "17438015112080609420"
     },
     "user_tz": -120
    },
    "id": "fbdDkCCDZUyW"
   },
   "outputs": [],
   "source": [
    "iris = datasets.load_iris()\n",
    "x = iris.data[0:100, [0, 2]]\n",
    "y = iris.target[0:100]\n",
    "y[y == 0] = -1\n",
    "\n",
    "x, y = shuffle_arrays_unison(arrays= [x, y], random_seed= 42)\n",
    "\n",
    "scaler = StandardScaler()\n",
    "scaler.fit(x)\n",
    "x = scaler.transform(x)\n",
    "\n",
    "x_train, y_train = x[:80], y[:80]\n",
    "x_test, y_test = x[80:], y[80:]"
   ]
  },
  {
   "cell_type": "markdown",
   "metadata": {
    "id": "nOgvN78OJiSj"
   },
   "source": [
    "### Implementing the classifier from scratch"
   ]
  },
  {
   "cell_type": "code",
   "execution_count": 27,
   "metadata": {
    "executionInfo": {
     "elapsed": 7,
     "status": "ok",
     "timestamp": 1710197558449,
     "user": {
      "displayName": "Ahmed Farouk 201-700-619",
      "userId": "17438015112080609420"
     },
     "user_tz": -120
    },
    "id": "wxU3rF_Z7YW4"
   },
   "outputs": [],
   "source": [
    "class svm_hard_margin:\n",
    "\n",
    "  weights = []\n",
    "  bias = 0\n",
    "\n",
    "  def fit(self, x, y, learning_rate, epochs):\n",
    "    n_samples, n_features = x.shape\n",
    "    self.weights = np.zeros(n_features)\n",
    "\n",
    "    for epoch in range(1, epochs + 1):\n",
    "        for j in range(n_samples):\n",
    "            condition = y[j] * (np.dot(x[j], self.weights) + self.bias) >= 1\n",
    "            if not condition:\n",
    "                # Misclassification, update weights and bias\n",
    "                self.weights += learning_rate * (x[j] * y[j] - 2 * 1/epoch * self.weights)\n",
    "                self.bias += learning_rate * y[j]\n",
    "\n",
    "  def predict(self, x):\n",
    "    predictions = np.dot(x, self.weights) + self.bias\n",
    "    predictions = np.sign(predictions)\n",
    "    return predictions"
   ]
  },
  {
   "cell_type": "code",
   "execution_count": 28,
   "metadata": {
    "executionInfo": {
     "elapsed": 7,
     "status": "ok",
     "timestamp": 1710197558450,
     "user": {
      "displayName": "Ahmed Farouk 201-700-619",
      "userId": "17438015112080609420"
     },
     "user_tz": -120
    },
    "id": "vA8oMW3-DY0p"
   },
   "outputs": [],
   "source": [
    "svm_classifier = svm_hard_margin()\n",
    "svm_classifier.fit(x_train, y_train, 0.01, 1000)"
   ]
  },
  {
   "cell_type": "code",
   "execution_count": 29,
   "metadata": {
    "colab": {
     "base_uri": "https://localhost:8080/",
     "height": 472
    },
    "executionInfo": {
     "elapsed": 966,
     "status": "ok",
     "timestamp": 1710197559410,
     "user": {
      "displayName": "Ahmed Farouk 201-700-619",
      "userId": "17438015112080609420"
     },
     "user_tz": -120
    },
    "id": "GRFgZ9M4Dppf",
    "outputId": "f7ffe212-03cc-4955-cc8f-de3d875f1174"
   },
   "outputs": [
    {
     "data": {
      "image/png": "[encoded data removed]",
      "text/plain": [
       "<Figure size 640x480 with 1 Axes>"
      ]
     },
     "metadata": {},
     "output_type": "display_data"
    }
   ],
   "source": [
    "# Plotting decision regions\n",
    "plot_decision_regions(x_train, y_train, clf=svm_classifier, legend=2)\n",
    "\n",
    "# Adding axes annotations\n",
    "plt.xlabel('sepal length [cm]')\n",
    "plt.ylabel('petal length [cm]')\n",
    "plt.title('SVM on Iris')\n",
    "plt.show()"
   ]
  },
  {
   "cell_type": "markdown",
   "metadata": {
    "id": "kgUAz1HQDyZj"
   },
   "source": [
    "### the built-in sklearn SVM algorithm"
   ]
  },
  {
   "cell_type": "code",
   "execution_count": 43,
   "metadata": {
    "colab": {
     "base_uri": "https://localhost:8080/",
     "height": 74
    },
    "executionInfo": {
     "elapsed": 364,
     "status": "ok",
     "timestamp": 1710198361968,
     "user": {
      "displayName": "Ahmed Farouk 201-700-619",
      "userId": "17438015112080609420"
     },
     "user_tz": -120
    },
    "id": "LwH7REKBf9H1",
    "outputId": "1241f175-7224-4738-afd3-48485c488675"
   },
   "outputs": [
    {
     "data": {
      "text/html": [
       "<style>#sk-container-id-9 {color: black;background-color: white;}#sk-container-id-9 pre{padding: 0;}#sk-container-id-9 div.sk-toggleable {background-color: white;}#sk-container-id-9 label.sk-toggleable__label {cursor: pointer;display: block;width: 100%;margin-bottom: 0;padding: 0.3em;box-sizing: border-box;text-align: center;}#sk-container-id-9 label.sk-toggleable__label-arrow:before {content: \"▸\";float: left;margin-right: 0.25em;color: #696969;}#sk-container-id-9 label.sk-toggleable__label-arrow:hover:before {color: black;}#sk-container-id-9 div.sk-estimator:hover label.sk-toggleable__label-arrow:before {color: black;}#sk-container-id-9 div.sk-toggleable__content {max-height: 0;max-width: 0;overflow: hidden;text-align: left;background-color: #f0f8ff;}#sk-container-id-9 div.sk-toggleable__content pre {margin: 0.2em;color: black;border-radius: 0.25em;background-color: #f0f8ff;}#sk-container-id-9 input.sk-toggleable__control:checked~div.sk-toggleable__content {max-height: 200px;max-width: 100%;overflow: auto;}#sk-container-id-9 input.sk-toggleable__control:checked~label.sk-toggleable__label-arrow:before {content: \"▾\";}#sk-container-id-9 div.sk-estimator input.sk-toggleable__control:checked~label.sk-toggleable__label {background-color: #d4ebff;}#sk-container-id-9 div.sk-label input.sk-toggleable__control:checked~label.sk-toggleable__label {background-color: #d4ebff;}#sk-container-id-9 input.sk-hidden--visually {border: 0;clip: rect(1px 1px 1px 1px);clip: rect(1px, 1px, 1px, 1px);height: 1px;margin: -1px;overflow: hidden;padding: 0;position: absolute;width: 1px;}#sk-container-id-9 div.sk-estimator {font-family: monospace;background-color: #f0f8ff;border: 1px dotted black;border-radius: 0.25em;box-sizing: border-box;margin-bottom: 0.5em;}#sk-container-id-9 div.sk-estimator:hover {background-color: #d4ebff;}#sk-container-id-9 div.sk-parallel-item::after {content: \"\";width: 100%;border-bottom: 1px solid gray;flex-grow: 1;}#sk-container-id-9 div.sk-label:hover label.sk-toggleable__label {background-color: #d4ebff;}#sk-container-id-9 div.sk-serial::before {content: \"\";position: absolute;border-left: 1px solid gray;box-sizing: border-box;top: 0;bottom: 0;left: 50%;z-index: 0;}#sk-container-id-9 div.sk-serial {display: flex;flex-direction: column;align-items: center;background-color: white;padding-right: 0.2em;padding-left: 0.2em;position: relative;}#sk-container-id-9 div.sk-item {position: relative;z-index: 1;}#sk-container-id-9 div.sk-parallel {display: flex;align-items: stretch;justify-content: center;background-color: white;position: relative;}#sk-container-id-9 div.sk-item::before, #sk-container-id-9 div.sk-parallel-item::before {content: \"\";position: absolute;border-left: 1px solid gray;box-sizing: border-box;top: 0;bottom: 0;left: 50%;z-index: -1;}#sk-container-id-9 div.sk-parallel-item {display: flex;flex-direction: column;z-index: 1;position: relative;background-color: white;}#sk-container-id-9 div.sk-parallel-item:first-child::after {align-self: flex-end;width: 50%;}#sk-container-id-9 div.sk-parallel-item:last-child::after {align-self: flex-start;width: 50%;}#sk-container-id-9 div.sk-parallel-item:only-child::after {width: 0;}#sk-container-id-9 div.sk-dashed-wrapped {border: 1px dashed gray;margin: 0 0.4em 0.5em 0.4em;box-sizing: border-box;padding-bottom: 0.4em;background-color: white;}#sk-container-id-9 div.sk-label label {font-family: monospace;font-weight: bold;display: inline-block;line-height: 1.2em;}#sk-container-id-9 div.sk-label-container {text-align: center;}#sk-container-id-9 div.sk-container {/* jupyter's `normalize.less` sets `[hidden] { display: none; }` but bootstrap.min.css set `[hidden] { display: none !important; }` so we also need the `!important` here to be able to override the default hidden behavior on the sphinx rendered scikit-learn.org. See: https://github.com/scikit-learn/scikit-learn/issues/21755 */display: inline-block !important;position: relative;}#sk-container-id-9 div.sk-text-repr-fallback {display: none;}</style><div id=\"sk-container-id-9\" class=\"sk-top-container\"><div class=\"sk-text-repr-fallback\"><pre>SVC(C=0.5, kernel=&#x27;linear&#x27;)</pre><b>In a Jupyter environment, please rerun this cell to show the HTML representation or trust the notebook. <br />On GitHub, the HTML representation is unable to render, please try loading this page with nbviewer.org.</b></div><div class=\"sk-container\" hidden><div class=\"sk-item\"><div class=\"sk-estimator sk-toggleable\"><input class=\"sk-toggleable__control sk-hidden--visually\" id=\"sk-estimator-id-9\" type=\"checkbox\" checked><label for=\"sk-estimator-id-9\" class=\"sk-toggleable__label sk-toggleable__label-arrow\">SVC</label><div class=\"sk-toggleable__content\"><pre>SVC(C=0.5, kernel=&#x27;linear&#x27;)</pre></div></div></div></div></div>"
      ],
      "text/plain": [
       "SVC(C=0.5, kernel='linear')"
      ]
     },
     "execution_count": 43,
     "metadata": {},
     "output_type": "execute_result"
    }
   ],
   "source": [
    "svm = SVC(C=0.5, kernel='linear')\n",
    "svm.fit(x_train, y_train)"
   ]
  },
  {
   "cell_type": "code",
   "execution_count": 44,
   "metadata": {
    "colab": {
     "base_uri": "https://localhost:8080/",
     "height": 472
    },
    "executionInfo": {
     "elapsed": 414,
     "status": "ok",
     "timestamp": 1710198363770,
     "user": {
      "displayName": "Ahmed Farouk 201-700-619",
      "userId": "17438015112080609420"
     },
     "user_tz": -120
    },
    "id": "iU2UDimHjTOm",
    "outputId": "40d47af0-b789-4a11-d655-47a11bfb1e65"
   },
   "outputs": [
    {
     "data": {
      "image/png": "[encoded data removed]",
      "text/plain": [
       "<Figure size 640x480 with 1 Axes>"
      ]
     },
     "metadata": {},
     "output_type": "display_data"
    }
   ],
   "source": [
    "# Plotting decision regions\n",
    "plot_decision_regions(x_train, y_train, clf=svm, legend=2)\n",
    "\n",
    "# Adding axes annotations\n",
    "plt.xlabel('sepal length [cm]')\n",
    "plt.ylabel('petal length [cm]')\n",
    "plt.title('SVM on Iris')\n",
    "plt.show()"
   ]
  },
  {
   "cell_type": "markdown",
   "metadata": {
    "id": "fpiLpd4sMRwa"
   },
   "source": [
    "### Evaluating the two models"
   ]
  },
  {
   "cell_type": "code",
   "execution_count": 45,
   "metadata": {
    "colab": {
     "base_uri": "https://localhost:8080/"
    },
    "executionInfo": {
     "elapsed": 348,
     "status": "ok",
     "timestamp": 1710198369892,
     "user": {
      "displayName": "Ahmed Farouk 201-700-619",
      "userId": "17438015112080609420"
     },
     "user_tz": -120
    },
    "id": "ilHzuck4K3qS",
    "outputId": "266a6974-75e7-4d72-903d-d96e4ea83e13"
   },
   "outputs": [
    {
     "name": "stdout",
     "output_type": "stream",
     "text": [
      "The Accuracy of the SVM built-in classifier is  1.0\n",
      "The Accuracy of the SVM from scratch classifier is  1.0\n"
     ]
    }
   ],
   "source": [
    "predictions1 = svm.predict(x_test)\n",
    "predictions2 = svm_classifier.predict(x_test)\n",
    "print('The Accuracy of the SVM built-in classifier is ', accuracy_score(predictions1, y_test))\n",
    "print('The Accuracy of the SVM from scratch classifier is ', accuracy_score(predictions2, y_test))\n"
   ]
  }
 ],
 "metadata": {
  "colab": {
   "provenance": []
  },
  "kernelspec": {
   "display_name": "Python 3",
   "name": "python3"
  },
  "language_info": {
   "name": "python"
  }
 },
 "nbformat": 4,
 "nbformat_minor": 0
}
